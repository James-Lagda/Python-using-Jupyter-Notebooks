{
 "cells": [
  {
   "cell_type": "markdown",
   "id": "005befe1-5e93-4bfe-bcee-d50b2a05f94f",
   "metadata": {},
   "source": [
    "# Automated File Sorter"
   ]
  },
  {
   "cell_type": "code",
   "execution_count": 2,
   "id": "ededfbc9-907c-448d-b364-879eb098a65a",
   "metadata": {},
   "outputs": [],
   "source": [
    "import os, shutil"
   ]
  },
  {
   "cell_type": "code",
   "execution_count": 22,
   "id": "cb8ff2f2-9e53-44c3-8388-cab93885c60d",
   "metadata": {},
   "outputs": [],
   "source": [
    "# For the path paste na file folder path you want to be sorted\n",
    "path = r'C:/Users/irvin/OneDrive/Desktop/ARAL SERIES/DATA ANALYTICS/Jupyter Notebooks Anaconda For Python/'"
   ]
  },
  {
   "cell_type": "code",
   "execution_count": 28,
   "id": "f8423e56-80d3-4622-99c3-1965debd90b4",
   "metadata": {},
   "outputs": [],
   "source": [
    "file_name = os.listdir(path)"
   ]
  },
  {
   "cell_type": "code",
   "execution_count": 43,
   "id": "289236d4-ad98-48b9-aae1-724f5e0a6dc9",
   "metadata": {},
   "outputs": [
    {
     "name": "stdout",
     "output_type": "stream",
     "text": [
      "NO FILES WERE MOVED!\n",
      "NO FILES WERE MOVED!\n",
      "NO FILES WERE MOVED!\n",
      "NO FILES WERE MOVED!\n"
     ]
    }
   ],
   "source": [
    "#TAKE FOLDER NAMES\n",
    "folder_names = ['python files', 'text files', 'pictures']\n",
    "\n",
    "#CHECK FOLDER NAMES IF NOT CREATED IT IS GONNA CREATE THE FOLDER WITH THE NAME IN THE LIST\n",
    "for loop in range(0,3):\n",
    "    if not os.path.exists(path + folder_names[loop]):\n",
    "        print(path + folder_names[loop])\n",
    "        os.makedirs((path + folder_names[loop]))\n",
    "\n",
    "#CHECK IF THERE IS A A TYPE FOR FILE THAT IS IN THE IN FOLDER BUT NOT INSINDE THE CREATED FOLDER IN THE LIST \n",
    "#THE SHUTIL OPERATOR WILL MOVE THE FILE IN THE CREATED FOLDER \n",
    "for file in file_name:\n",
    "    if '.ipynb' in file and not os.path.exists(path + 'python files/' + file):\n",
    "        shutil.move(path + file, path + 'python files/' + file)\n",
    "    elif '.txt' in file and not os.path.exists(path + 'text files/' + file):\n",
    "        shutil.move(path + file, path + 'python files/' + file)\n",
    "    elif '.png' in file and not os.path.exists(path + 'pictures/' + file):\n",
    "        shutil.move(path + file, path + 'python files/' + file)\n",
    "    else:\n",
    "        print('NO FILES WERE MOVED!')"
   ]
  },
  {
   "cell_type": "code",
   "execution_count": null,
   "id": "aa544644-0be3-4710-a63a-ddc9e704667b",
   "metadata": {},
   "outputs": [],
   "source": []
  }
 ],
 "metadata": {
  "kernelspec": {
   "display_name": "Python 3 (ipykernel)",
   "language": "python",
   "name": "python3"
  },
  "language_info": {
   "codemirror_mode": {
    "name": "ipython",
    "version": 3
   },
   "file_extension": ".py",
   "mimetype": "text/x-python",
   "name": "python",
   "nbconvert_exporter": "python",
   "pygments_lexer": "ipython3",
   "version": "3.12.4"
  }
 },
 "nbformat": 4,
 "nbformat_minor": 5
}
