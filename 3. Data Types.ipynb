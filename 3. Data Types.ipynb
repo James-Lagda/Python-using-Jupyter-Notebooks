{
 "cells": [
  {
   "cell_type": "markdown",
   "id": "ef62b371-e929-459e-a116-ece7cedabbc5",
   "metadata": {},
   "source": [
    "# Data Types"
   ]
  },
  {
   "cell_type": "code",
   "execution_count": 2,
   "id": "9c0d7bda-efe6-4dd1-adfc-4a43344ff4c3",
   "metadata": {},
   "outputs": [
    {
     "data": {
      "text/plain": [
       "int"
      ]
     },
     "execution_count": 2,
     "metadata": {},
     "output_type": "execute_result"
    }
   ],
   "source": [
    "type(14)"
   ]
  },
  {
   "cell_type": "code",
   "execution_count": 5,
   "id": "437791ea-c192-4011-b858-47e64988edad",
   "metadata": {},
   "outputs": [
    {
     "data": {
      "text/plain": [
       "float"
      ]
     },
     "execution_count": 5,
     "metadata": {},
     "output_type": "execute_result"
    }
   ],
   "source": [
    "type(14 + 10.25)"
   ]
  },
  {
   "cell_type": "code",
   "execution_count": 7,
   "id": "0c820343-79bc-47b5-a47f-6d46d8b8e1b8",
   "metadata": {},
   "outputs": [
    {
     "data": {
      "text/plain": [
       "complex"
      ]
     },
     "execution_count": 7,
     "metadata": {},
     "output_type": "execute_result"
    }
   ],
   "source": [
    "type(14 + 3j)"
   ]
  },
  {
   "cell_type": "code",
   "execution_count": 13,
   "id": "6013dca3-5e05-41c5-8164-cc76fad9da3b",
   "metadata": {},
   "outputs": [
    {
     "data": {
      "text/plain": [
       "bool"
      ]
     },
     "execution_count": 13,
     "metadata": {},
     "output_type": "execute_result"
    }
   ],
   "source": [
    "#Bolean\n",
    "\n",
    "type(1 > 5)"
   ]
  },
  {
   "cell_type": "code",
   "execution_count": 15,
   "id": "e793b7ee-0b5e-407f-aa0b-665adbc14581",
   "metadata": {},
   "outputs": [
    {
     "data": {
      "text/plain": [
       "False"
      ]
     },
     "execution_count": 15,
     "metadata": {},
     "output_type": "execute_result"
    }
   ],
   "source": [
    "1 > 5"
   ]
  },
  {
   "cell_type": "code",
   "execution_count": 17,
   "id": "654047c3-b0b4-484e-bad2-47e2174eb11f",
   "metadata": {},
   "outputs": [
    {
     "data": {
      "text/plain": [
       "'single quote'"
      ]
     },
     "execution_count": 17,
     "metadata": {},
     "output_type": "execute_result"
    }
   ],
   "source": [
    "#Strings\n",
    "\n",
    "'single quote'"
   ]
  },
  {
   "cell_type": "code",
   "execution_count": 19,
   "id": "d5c2d9b7-92d8-4f3b-a332-e47f16510008",
   "metadata": {},
   "outputs": [
    {
     "data": {
      "text/plain": [
       "'Double Quote'"
      ]
     },
     "execution_count": 19,
     "metadata": {},
     "output_type": "execute_result"
    }
   ],
   "source": [
    "\"Double Quote\""
   ]
  },
  {
   "cell_type": "code",
   "execution_count": 25,
   "id": "7b5656ea-d2b9-4bd8-b923-6d443c631195",
   "metadata": {},
   "outputs": [],
   "source": [
    "multiline = \"\"\"\n",
    "The ice cream is delicious\n",
    "especially the cookies and cream on\n",
    "\n",
    "\"\"\""
   ]
  },
  {
   "cell_type": "code",
   "execution_count": 27,
   "id": "81ec594e-097a-4f4c-b291-e388c9067f9f",
   "metadata": {},
   "outputs": [
    {
     "name": "stdout",
     "output_type": "stream",
     "text": [
      "\n",
      "The ice cream is delicious\n",
      "especially the cookies and cream on\n",
      "\n",
      "\n"
     ]
    }
   ],
   "source": [
    "print(multiline)"
   ]
  },
  {
   "cell_type": "code",
   "execution_count": 29,
   "id": "26a2503d-052d-4cae-8c46-9e667c7bfd3b",
   "metadata": {},
   "outputs": [
    {
     "data": {
      "text/plain": [
       "\"I've want to go to the beach.\""
      ]
     },
     "execution_count": 29,
     "metadata": {},
     "output_type": "execute_result"
    }
   ],
   "source": [
    "\"I've want to go to the beach.\""
   ]
  },
  {
   "cell_type": "code",
   "execution_count": 31,
   "id": "4a4e6b09-b4b0-4c37-91c1-b00bbbcd6633",
   "metadata": {},
   "outputs": [],
   "source": [
    "a = \"Hello World\""
   ]
  },
  {
   "cell_type": "code",
   "execution_count": 34,
   "id": "6276aa92-638e-448a-b462-1a067d156835",
   "metadata": {},
   "outputs": [
    {
     "name": "stdout",
     "output_type": "stream",
     "text": [
      "Hello W\n"
     ]
    }
   ],
   "source": [
    "print(a[:7])"
   ]
  },
  {
   "cell_type": "code",
   "execution_count": 39,
   "id": "fadf62ce-4af7-412b-8d6d-4566340c3ecd",
   "metadata": {},
   "outputs": [
    {
     "name": "stdout",
     "output_type": "stream",
     "text": [
      "o\n"
     ]
    }
   ],
   "source": [
    "#or\n",
    "print(a[7])"
   ]
  },
  {
   "cell_type": "code",
   "execution_count": 41,
   "id": "5c7eeb7c-c0c4-484e-b614-dcf10d7c714d",
   "metadata": {},
   "outputs": [
    {
     "name": "stdout",
     "output_type": "stream",
     "text": [
      "o W\n"
     ]
    }
   ],
   "source": [
    "#or \n",
    "print(a[4:7])"
   ]
  },
  {
   "cell_type": "code",
   "execution_count": 45,
   "id": "5c3f203f-0a8f-49fc-aa63-b6cfc6c6b9f7",
   "metadata": {},
   "outputs": [
    {
     "data": {
      "text/plain": [
       "'Hello WorldHello WorldHello World'"
      ]
     },
     "execution_count": 45,
     "metadata": {},
     "output_type": "execute_result"
    }
   ],
   "source": [
    "#opperatoins may be used as well such as + - *\n",
    "a*3"
   ]
  },
  {
   "cell_type": "code",
   "execution_count": 47,
   "id": "0724f967-a9ec-461f-b951-5bb37bdecd96",
   "metadata": {},
   "outputs": [
    {
     "data": {
      "text/plain": [
       "[1, 2, 3]"
      ]
     },
     "execution_count": 47,
     "metadata": {},
     "output_type": "execute_result"
    }
   ],
   "source": [
    "#List\n",
    "\n",
    "[1,2,3]"
   ]
  },
  {
   "cell_type": "code",
   "execution_count": 49,
   "id": "b0670ea9-267a-4b7c-9839-563a6d856d4e",
   "metadata": {},
   "outputs": [
    {
     "data": {
      "text/plain": [
       "['HI', 'HELLO', 'OKAY']"
      ]
     },
     "execution_count": 49,
     "metadata": {},
     "output_type": "execute_result"
    }
   ],
   "source": [
    "['HI','HELLO','OKAY']"
   ]
  },
  {
   "cell_type": "code",
   "execution_count": 55,
   "id": "41fed99c-3867-44d1-b5df-47d354581349",
   "metadata": {},
   "outputs": [
    {
     "data": {
      "text/plain": [
       "['HI', 'HELLO', 'OKAY', 5, ['YES', 'NO'], True]"
      ]
     },
     "execution_count": 55,
     "metadata": {},
     "output_type": "execute_result"
    }
   ],
   "source": [
    "['HI','HELLO','OKAY', 5, ['YES','NO'],True]"
   ]
  },
  {
   "cell_type": "code",
   "execution_count": 59,
   "id": "5e15c1a2-46ba-49a8-9566-84e03e501846",
   "metadata": {},
   "outputs": [
    {
     "data": {
      "text/plain": [
       "['HI', 'HELLO', 'OKAY', 'BYE']"
      ]
     },
     "execution_count": 59,
     "metadata": {},
     "output_type": "execute_result"
    }
   ],
   "source": [
    "greetings = ['HI','HELLO','OKAY']\n",
    "\n",
    "greetings.append('BYE')\n",
    "\n",
    "greetings "
   ]
  },
  {
   "cell_type": "code",
   "execution_count": 61,
   "id": "dc38f2c2-7a4f-4769-8e9f-616c95de7060",
   "metadata": {},
   "outputs": [
    {
     "data": {
      "text/plain": [
       "['HI', 'THANKS', 'OKAY', 'BYE']"
      ]
     },
     "execution_count": 61,
     "metadata": {},
     "output_type": "execute_result"
    }
   ],
   "source": [
    "greetings[1] = 'THANKS'\n",
    "\n",
    "greetings"
   ]
  },
  {
   "cell_type": "code",
   "execution_count": 63,
   "id": "8601d914-bed4-4a00-8010-d7c94e54c593",
   "metadata": {},
   "outputs": [],
   "source": [
    "nest_list = ['HI','HELLO','OKAY', 5, ['YES','NO'],True]"
   ]
  },
  {
   "cell_type": "code",
   "execution_count": 65,
   "id": "e966d68e-d910-4909-95f8-8b9d0dffb2d9",
   "metadata": {},
   "outputs": [
    {
     "data": {
      "text/plain": [
       "5"
      ]
     },
     "execution_count": 65,
     "metadata": {},
     "output_type": "execute_result"
    }
   ],
   "source": [
    "nest_list[3]"
   ]
  },
  {
   "cell_type": "code",
   "execution_count": 81,
   "id": "da10af84-88b0-42db-a3c3-41948d69548c",
   "metadata": {},
   "outputs": [
    {
     "data": {
      "text/plain": [
       "'NO'"
      ]
     },
     "execution_count": 81,
     "metadata": {},
     "output_type": "execute_result"
    }
   ],
   "source": [
    "nest_list[4][1]"
   ]
  },
  {
   "cell_type": "code",
   "execution_count": 89,
   "id": "ae7189af-ca3d-4f6f-b921-cb7005e00b32",
   "metadata": {},
   "outputs": [],
   "source": [
    "#TUPLES CANNOT BE CHANGED\n",
    "\n",
    "tuple_scoops = (1,2,3,2,1)"
   ]
  },
  {
   "cell_type": "code",
   "execution_count": 85,
   "id": "315c100d-3136-49db-97b0-79635b3fd3d5",
   "metadata": {},
   "outputs": [
    {
     "data": {
      "text/plain": [
       "tuple"
      ]
     },
     "execution_count": 85,
     "metadata": {},
     "output_type": "execute_result"
    }
   ],
   "source": [
    "type(tuple_scoops)"
   ]
  },
  {
   "cell_type": "code",
   "execution_count": 87,
   "id": "5ec1d85c-3b36-4a29-993a-910f1e3fcda3",
   "metadata": {},
   "outputs": [
    {
     "data": {
      "text/plain": [
       "1"
      ]
     },
     "execution_count": 87,
     "metadata": {},
     "output_type": "execute_result"
    }
   ],
   "source": [
    "tuple_scoops[0]"
   ]
  },
  {
   "cell_type": "code",
   "execution_count": 91,
   "id": "d339ece3-cf51-40bd-bc68-2177c1c55ead",
   "metadata": {},
   "outputs": [],
   "source": [
    "#SETS\n",
    "\n",
    "daily_pints = {1,2,3}"
   ]
  },
  {
   "cell_type": "code",
   "execution_count": 93,
   "id": "d78f3fef-66c7-4616-b203-48af3a4a3feb",
   "metadata": {},
   "outputs": [
    {
     "data": {
      "text/plain": [
       "set"
      ]
     },
     "execution_count": 93,
     "metadata": {},
     "output_type": "execute_result"
    }
   ],
   "source": [
    "type(daily_pints)"
   ]
  },
  {
   "cell_type": "code",
   "execution_count": 95,
   "id": "b46d6453-ce5b-4732-969d-8a83fbf1aff0",
   "metadata": {},
   "outputs": [
    {
     "name": "stdout",
     "output_type": "stream",
     "text": [
      "{512, 1, 2, 3, 4, 5, 6, 7, 8, 9, 11, 44, 22}\n"
     ]
    }
   ],
   "source": [
    "daily_pints_log = {1,2,3,4,5,6,7,8,9,1,11,22,44,512}\n",
    "\n",
    "print(daily_pints_log)"
   ]
  },
  {
   "cell_type": "code",
   "execution_count": 97,
   "id": "62fc7360-b4fd-42d1-901d-7cb1b111f282",
   "metadata": {},
   "outputs": [],
   "source": [
    "me_daily_pints_log = {99,44,5,66,22,44} "
   ]
  },
  {
   "cell_type": "code",
   "execution_count": 101,
   "id": "5dedcc0d-f9f3-4404-8f22-ad2f8d6a46b2",
   "metadata": {},
   "outputs": [
    {
     "name": "stdout",
     "output_type": "stream",
     "text": [
      "{512, 1, 2, 3, 4, 5, 6, 7, 8, 9, 66, 11, 44, 99, 22}\n"
     ]
    }
   ],
   "source": [
    "print(daily_pints_log | me_daily_pints_log)"
   ]
  },
  {
   "cell_type": "code",
   "execution_count": 103,
   "id": "c9795923-8036-4315-b47d-401f46ba10d2",
   "metadata": {},
   "outputs": [
    {
     "name": "stdout",
     "output_type": "stream",
     "text": [
      "{44, 5, 22}\n"
     ]
    }
   ],
   "source": [
    "print(daily_pints_log & me_daily_pints_log)"
   ]
  },
  {
   "cell_type": "code",
   "execution_count": 105,
   "id": "ca4c7e3a-86d6-49f5-876b-7a94a7e761b7",
   "metadata": {},
   "outputs": [
    {
     "name": "stdout",
     "output_type": "stream",
     "text": [
      "{512, 1, 2, 3, 4, 6, 7, 8, 9, 11}\n"
     ]
    }
   ],
   "source": [
    "print(daily_pints_log - me_daily_pints_log)"
   ]
  },
  {
   "cell_type": "code",
   "execution_count": 107,
   "id": "3aa041cf-8e38-428c-882f-26c711d03acd",
   "metadata": {},
   "outputs": [
    {
     "name": "stdout",
     "output_type": "stream",
     "text": [
      "{66, 99}\n"
     ]
    }
   ],
   "source": [
    "print(me_daily_pints_log - daily_pints_log)"
   ]
  },
  {
   "cell_type": "code",
   "execution_count": 109,
   "id": "b6000115-e9c1-44f3-b551-ef2b824ed9ac",
   "metadata": {},
   "outputs": [
    {
     "name": "stdout",
     "output_type": "stream",
     "text": [
      "{512, 1, 2, 3, 4, 6, 7, 8, 9, 66, 11, 99}\n"
     ]
    }
   ],
   "source": [
    "print(me_daily_pints_log ^ daily_pints_log)"
   ]
  },
  {
   "cell_type": "code",
   "execution_count": 3,
   "id": "a2819619-5acb-41eb-8609-f6f11de43503",
   "metadata": {},
   "outputs": [],
   "source": [
    "#DICTIONARIES\n",
    "#KEY/VALUE PAIR\n",
    "\n",
    "dict_cream = {'name':'james irvin', 'age': 22, 'Favourite Ice Cream' :['cookies and cream','chocolate']}"
   ]
  },
  {
   "cell_type": "code",
   "execution_count": 5,
   "id": "0ebee947-0489-46bb-a1e5-8f9031ddf37e",
   "metadata": {},
   "outputs": [
    {
     "data": {
      "text/plain": [
       "dict"
      ]
     },
     "execution_count": 5,
     "metadata": {},
     "output_type": "execute_result"
    }
   ],
   "source": [
    "type(dict_cream)"
   ]
  },
  {
   "cell_type": "code",
   "execution_count": 7,
   "id": "cd38d3e3-df16-4e55-a31f-39a9b30279d1",
   "metadata": {},
   "outputs": [
    {
     "name": "stdout",
     "output_type": "stream",
     "text": [
      "{'name': 'james irvin', 'age': 22, 'Favourite Ice Cream': ['cookies and cream', 'chocolate']}\n"
     ]
    }
   ],
   "source": [
    "print(dict_cream)"
   ]
  },
  {
   "cell_type": "code",
   "execution_count": 9,
   "id": "ec7218a9-f4ae-4c29-afc2-ef59e1f749ca",
   "metadata": {},
   "outputs": [
    {
     "data": {
      "text/plain": [
       "dict_values(['james irvin', 22, ['cookies and cream', 'chocolate']])"
      ]
     },
     "execution_count": 9,
     "metadata": {},
     "output_type": "execute_result"
    }
   ],
   "source": [
    "dict_cream.values()"
   ]
  },
  {
   "cell_type": "code",
   "execution_count": 11,
   "id": "ad3a5a80-9ae5-4ba4-8756-170963aa3c32",
   "metadata": {},
   "outputs": [
    {
     "data": {
      "text/plain": [
       "dict_keys(['name', 'age', 'Favourite Ice Cream'])"
      ]
     },
     "execution_count": 11,
     "metadata": {},
     "output_type": "execute_result"
    }
   ],
   "source": [
    "dict_cream.keys()"
   ]
  },
  {
   "cell_type": "code",
   "execution_count": 13,
   "id": "6b6ce810-8648-4d73-a706-a09c25e5ce3d",
   "metadata": {},
   "outputs": [
    {
     "data": {
      "text/plain": [
       "dict_items([('name', 'james irvin'), ('age', 22), ('Favourite Ice Cream', ['cookies and cream', 'chocolate'])])"
      ]
     },
     "execution_count": 13,
     "metadata": {},
     "output_type": "execute_result"
    }
   ],
   "source": [
    "dict_cream.items()"
   ]
  },
  {
   "cell_type": "code",
   "execution_count": 15,
   "id": "8f529cfb-ae5d-4819-a0a4-c829b3ef3fd3",
   "metadata": {},
   "outputs": [
    {
     "data": {
      "text/plain": [
       "'james irvin'"
      ]
     },
     "execution_count": 15,
     "metadata": {},
     "output_type": "execute_result"
    }
   ],
   "source": [
    "dict_cream['name']"
   ]
  },
  {
   "cell_type": "code",
   "execution_count": 17,
   "id": "ed5df11c-585e-4dca-b187-f7a852d70889",
   "metadata": {},
   "outputs": [
    {
     "name": "stdout",
     "output_type": "stream",
     "text": [
      "{'name': 'austin', 'age': 22, 'Favourite Ice Cream': ['cookies and cream', 'chocolate']}\n"
     ]
    }
   ],
   "source": [
    "dict_cream['name'] = 'austin'\n",
    "\n",
    "print(dict_cream)"
   ]
  },
  {
   "cell_type": "code",
   "execution_count": 19,
   "id": "a9ef9c9f-19d3-4b5c-8cab-a72b02cc864f",
   "metadata": {},
   "outputs": [
    {
     "name": "stdout",
     "output_type": "stream",
     "text": [
      "{'name': 'austin', 'age': 22, 'Favourite Ice Cream': ['cookies and cream', 'chocolate'], 'school': 'cvsu'}\n"
     ]
    }
   ],
   "source": [
    "dict_cream.update({'name': 'austin', 'age': 22, 'school': 'cvsu'})\n",
    "\n",
    "print(dict_cream)"
   ]
  },
  {
   "cell_type": "code",
   "execution_count": 21,
   "id": "c3ac45e3-4a33-4ef1-8d19-0e72d723c41e",
   "metadata": {},
   "outputs": [
    {
     "name": "stdout",
     "output_type": "stream",
     "text": [
      "{'name': 'austin', 'age': 22, 'Favourite Ice Cream': ['cookies and cream', 'chocolate']}\n"
     ]
    }
   ],
   "source": [
    "del dict_cream['school']\n",
    "\n",
    "print(dict_cream)"
   ]
  },
  {
   "cell_type": "code",
   "execution_count": null,
   "id": "cb15c020-b228-47ff-8645-0d7d29abf40f",
   "metadata": {},
   "outputs": [],
   "source": []
  }
 ],
 "metadata": {
  "kernelspec": {
   "display_name": "Python 3 (ipykernel)",
   "language": "python",
   "name": "python3"
  },
  "language_info": {
   "codemirror_mode": {
    "name": "ipython",
    "version": 3
   },
   "file_extension": ".py",
   "mimetype": "text/x-python",
   "name": "python",
   "nbconvert_exporter": "python",
   "pygments_lexer": "ipython3",
   "version": "3.12.4"
  }
 },
 "nbformat": 4,
 "nbformat_minor": 5
}
