{
 "cells": [
  {
   "cell_type": "markdown",
   "id": "c29df855-b16a-4476-84fd-1b1563c8babf",
   "metadata": {},
   "source": [
    "# Comparison, Logical, and Membership Operators"
   ]
  },
  {
   "cell_type": "code",
   "execution_count": 2,
   "id": "3a382d2e-ac86-49b8-a436-7fa9646da881",
   "metadata": {},
   "outputs": [
    {
     "data": {
      "text/plain": [
       "True"
      ]
     },
     "execution_count": 2,
     "metadata": {},
     "output_type": "execute_result"
    }
   ],
   "source": [
    "10 == 10"
   ]
  },
  {
   "cell_type": "code",
   "execution_count": 4,
   "id": "ffe6b3cb-1262-4d51-91f5-46dec9745a60",
   "metadata": {},
   "outputs": [
    {
     "data": {
      "text/plain": [
       "False"
      ]
     },
     "execution_count": 4,
     "metadata": {},
     "output_type": "execute_result"
    }
   ],
   "source": [
    "10 == 1"
   ]
  },
  {
   "cell_type": "code",
   "execution_count": 6,
   "id": "3218eaed-ea91-418c-811c-3d1f25105ef2",
   "metadata": {},
   "outputs": [
    {
     "data": {
      "text/plain": [
       "False"
      ]
     },
     "execution_count": 6,
     "metadata": {},
     "output_type": "execute_result"
    }
   ],
   "source": [
    "10 != 10"
   ]
  },
  {
   "cell_type": "code",
   "execution_count": 8,
   "id": "3f81c3fc-9ada-4c48-918e-0bb2bb4aa57f",
   "metadata": {},
   "outputs": [
    {
     "data": {
      "text/plain": [
       "False"
      ]
     },
     "execution_count": 8,
     "metadata": {},
     "output_type": "execute_result"
    }
   ],
   "source": [
    "'yes' == 'no'"
   ]
  },
  {
   "cell_type": "code",
   "execution_count": 10,
   "id": "c30f38cc-5fb3-47e4-944a-132a7e781d03",
   "metadata": {},
   "outputs": [
    {
     "data": {
      "text/plain": [
       "True"
      ]
     },
     "execution_count": 10,
     "metadata": {},
     "output_type": "execute_result"
    }
   ],
   "source": [
    "x = 'yes'\n",
    "y = 'no'\n",
    "\n",
    "x != y"
   ]
  },
  {
   "cell_type": "code",
   "execution_count": 12,
   "id": "39c56144-3205-461f-bdca-0b79dcecce37",
   "metadata": {},
   "outputs": [
    {
     "data": {
      "text/plain": [
       "False"
      ]
     },
     "execution_count": 12,
     "metadata": {},
     "output_type": "execute_result"
    }
   ],
   "source": [
    "10 < 10"
   ]
  },
  {
   "cell_type": "code",
   "execution_count": 14,
   "id": "316bbda8-c6c8-4fb9-9dc3-235b11c360a4",
   "metadata": {},
   "outputs": [
    {
     "data": {
      "text/plain": [
       "True"
      ]
     },
     "execution_count": 14,
     "metadata": {},
     "output_type": "execute_result"
    }
   ],
   "source": [
    "10 <= 10"
   ]
  },
  {
   "cell_type": "code",
   "execution_count": null,
   "id": "2d48b918-5551-4bde-8382-9c676835a94e",
   "metadata": {},
   "outputs": [],
   "source": [
    "#COMPARISON OPERATORS"
   ]
  },
  {
   "cell_type": "code",
   "execution_count": 16,
   "id": "6f432255-03d5-43a8-93b8-a9dcd9216236",
   "metadata": {},
   "outputs": [
    {
     "data": {
      "text/plain": [
       "False"
      ]
     },
     "execution_count": 16,
     "metadata": {},
     "output_type": "execute_result"
    }
   ],
   "source": [
    "(10 > 50) and (50 > 10)"
   ]
  },
  {
   "cell_type": "code",
   "execution_count": 18,
   "id": "791f5919-9046-4501-b314-727614db7197",
   "metadata": {},
   "outputs": [
    {
     "data": {
      "text/plain": [
       "True"
      ]
     },
     "execution_count": 18,
     "metadata": {},
     "output_type": "execute_result"
    }
   ],
   "source": [
    "(70 > 50) and (50 > 10)"
   ]
  },
  {
   "cell_type": "code",
   "execution_count": 20,
   "id": "68704939-021b-455a-ad12-be122771c790",
   "metadata": {},
   "outputs": [
    {
     "data": {
      "text/plain": [
       "True"
      ]
     },
     "execution_count": 20,
     "metadata": {},
     "output_type": "execute_result"
    }
   ],
   "source": [
    "(10 > 50) or (50 > 10)"
   ]
  },
  {
   "cell_type": "code",
   "execution_count": 22,
   "id": "f71486bd-8f93-452d-b96d-9722956e69c8",
   "metadata": {},
   "outputs": [
    {
     "data": {
      "text/plain": [
       "True"
      ]
     },
     "execution_count": 22,
     "metadata": {},
     "output_type": "execute_result"
    }
   ],
   "source": [
    "('hi' > 'bye') and (50 > 10)"
   ]
  },
  {
   "cell_type": "code",
   "execution_count": 24,
   "id": "dd93ca68-be71-4bfd-afb3-9c529ecc8714",
   "metadata": {},
   "outputs": [
    {
     "data": {
      "text/plain": [
       "False"
      ]
     },
     "execution_count": 24,
     "metadata": {},
     "output_type": "execute_result"
    }
   ],
   "source": [
    "not(50 > 10)"
   ]
  },
  {
   "cell_type": "code",
   "execution_count": 28,
   "id": "07a18305-8fe1-40d6-954a-b633f77d97b4",
   "metadata": {},
   "outputs": [],
   "source": [
    "#MEMBERSHIP OPERATORS"
   ]
  },
  {
   "cell_type": "code",
   "execution_count": 30,
   "id": "f8044e0b-3653-47f8-aedf-71d7b52bdc44",
   "metadata": {},
   "outputs": [
    {
     "data": {
      "text/plain": [
       "True"
      ]
     },
     "execution_count": 30,
     "metadata": {},
     "output_type": "execute_result"
    }
   ],
   "source": [
    "ice_cream = 'i love cookies and cream'\n",
    "\n",
    "'love' in 'i love cookies and cream'\n"
   ]
  },
  {
   "cell_type": "code",
   "execution_count": 34,
   "id": "a152b2f8-5322-44db-b790-2778c9af4267",
   "metadata": {},
   "outputs": [
    {
     "data": {
      "text/plain": [
       "True"
      ]
     },
     "execution_count": 34,
     "metadata": {},
     "output_type": "execute_result"
    }
   ],
   "source": [
    "scoops = [1,2,3,4,5,6]\n",
    "\n",
    "5 in scoops"
   ]
  },
  {
   "cell_type": "code",
   "execution_count": 36,
   "id": "ccdb80d7-83d5-40ef-80f5-72f20e379664",
   "metadata": {},
   "outputs": [
    {
     "data": {
      "text/plain": [
       "False"
      ]
     },
     "execution_count": 36,
     "metadata": {},
     "output_type": "execute_result"
    }
   ],
   "source": [
    "scoops = [1,2,3,4,5,6]\n",
    "\n",
    "5 not in scoops"
   ]
  },
  {
   "cell_type": "code",
   "execution_count": 40,
   "id": "d50a3485-c05d-4677-8892-ad3aae0e0a11",
   "metadata": {},
   "outputs": [
    {
     "data": {
      "text/plain": [
       "False"
      ]
     },
     "execution_count": 40,
     "metadata": {},
     "output_type": "execute_result"
    }
   ],
   "source": [
    "scoops = [1,2,3,4,5,6]\n",
    "wanted = 10\n",
    "\n",
    "wanted in scoops"
   ]
  },
  {
   "cell_type": "code",
   "execution_count": null,
   "id": "557ed3ec-bfc8-48fb-9ddb-46c82b48fb94",
   "metadata": {},
   "outputs": [],
   "source": []
  }
 ],
 "metadata": {
  "kernelspec": {
   "display_name": "Python 3 (ipykernel)",
   "language": "python",
   "name": "python3"
  },
  "language_info": {
   "codemirror_mode": {
    "name": "ipython",
    "version": 3
   },
   "file_extension": ".py",
   "mimetype": "text/x-python",
   "name": "python",
   "nbconvert_exporter": "python",
   "pygments_lexer": "ipython3",
   "version": "3.12.4"
  }
 },
 "nbformat": 4,
 "nbformat_minor": 5
}
