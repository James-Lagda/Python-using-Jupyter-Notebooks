{
 "cells": [
  {
   "cell_type": "code",
   "execution_count": 3,
   "id": "fe0ec14e-71c2-4864-83b2-b5625e3b9d63",
   "metadata": {},
   "outputs": [
    {
     "name": "stdout",
     "output_type": "stream",
     "text": [
      "Hello World it is I James Irvin\n"
     ]
    }
   ],
   "source": [
    "print(\"Hello World it is I James Irvin\")"
   ]
  },
  {
   "cell_type": "markdown",
   "id": "0d3d3167-96d7-4423-92f0-ddf6bed24b51",
   "metadata": {},
   "source": [
    "# First Notebook"
   ]
  },
  {
   "cell_type": "code",
   "execution_count": null,
   "id": "4e3b3be2-3704-444f-aceb-abdf6e86e445",
   "metadata": {},
   "outputs": [],
   "source": [
    "1"
   ]
  },
  {
   "cell_type": "code",
   "execution_count": null,
   "id": "cf3cdb44-821c-41f6-a274-5396bab4d6ad",
   "metadata": {},
   "outputs": [],
   "source": [
    "2"
   ]
  },
  {
   "cell_type": "code",
   "execution_count": null,
   "id": "636ccb5f-a4c4-4642-a99f-351e4b27408a",
   "metadata": {},
   "outputs": [],
   "source": [
    "3"
   ]
  }
 ],
 "metadata": {
  "kernelspec": {
   "display_name": "Python 3 (ipykernel)",
   "language": "python",
   "name": "python3"
  },
  "language_info": {
   "codemirror_mode": {
    "name": "ipython",
    "version": 3
   },
   "file_extension": ".py",
   "mimetype": "text/x-python",
   "name": "python",
   "nbconvert_exporter": "python",
   "pygments_lexer": "ipython3",
   "version": "3.12.4"
  }
 },
 "nbformat": 4,
 "nbformat_minor": 5
}
