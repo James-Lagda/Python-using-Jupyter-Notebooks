{
 "cells": [
  {
   "cell_type": "markdown",
   "id": "fa1360c6-f68d-471d-90e5-9774eb28da56",
   "metadata": {},
   "source": [
    "# Variables in Python"
   ]
  },
  {
   "cell_type": "code",
   "execution_count": 3,
   "id": "c55b9bb4-9d4c-449a-a037-dbb3805ccfe9",
   "metadata": {},
   "outputs": [
    {
     "name": "stdout",
     "output_type": "stream",
     "text": [
      "Ice cream\n"
     ]
    }
   ],
   "source": [
    "x = \"Ice cream\"\n",
    "\n",
    "print(x)"
   ]
  },
  {
   "cell_type": "code",
   "execution_count": 11,
   "id": "e38c1321-e691-45ab-8d73-608c8b07b332",
   "metadata": {},
   "outputs": [
    {
     "data": {
      "text/plain": [
       "int"
      ]
     },
     "execution_count": 11,
     "metadata": {},
     "output_type": "execute_result"
    }
   ],
   "source": [
    "type(x)"
   ]
  },
  {
   "cell_type": "code",
   "execution_count": 5,
   "id": "59d7d36b-8891-4ef7-bdb2-a6cd62964680",
   "metadata": {},
   "outputs": [
    {
     "name": "stdout",
     "output_type": "stream",
     "text": [
      "Cookies and Cream\n"
     ]
    }
   ],
   "source": [
    "y = (\"Cookies and Cream\")\n",
    "\n",
    "print(y)"
   ]
  },
  {
   "cell_type": "code",
   "execution_count": 21,
   "id": "63ff813a-bafb-4a50-a7f9-711a57e54163",
   "metadata": {},
   "outputs": [
    {
     "data": {
      "text/plain": [
       "str"
      ]
     },
     "execution_count": 21,
     "metadata": {},
     "output_type": "execute_result"
    }
   ],
   "source": [
    "type(y)"
   ]
  },
  {
   "cell_type": "code",
   "execution_count": 27,
   "id": "ce727b41-abc1-4f3d-91f5-762b4df8c5f1",
   "metadata": {},
   "outputs": [
    {
     "name": "stdout",
     "output_type": "stream",
     "text": [
      "Rocky Road\n"
     ]
    }
   ],
   "source": [
    "y = (\"Rocky Road\")\n",
    "Y = (\"Cookes and Cream\")\n",
    "\n",
    "print(y)"
   ]
  },
  {
   "cell_type": "code",
   "execution_count": 29,
   "id": "1412a049-cf7d-466e-969a-9aee4e5bcec1",
   "metadata": {},
   "outputs": [
    {
     "name": "stdout",
     "output_type": "stream",
     "text": [
      "cookies and cream\n",
      "Rocky Road\n",
      "Chocolate\n"
     ]
    }
   ],
   "source": [
    "x,y,z = 'cookies and cream','Rocky Road','Chocolate'\n",
    "\n",
    "print(x)\n",
    "print(y)\n",
    "print(z)"
   ]
  },
  {
   "cell_type": "code",
   "execution_count": 33,
   "id": "3314b765-3337-4fe2-b901-a95da72fb3b4",
   "metadata": {},
   "outputs": [
    {
     "name": "stdout",
     "output_type": "stream",
     "text": [
      "Burger\n",
      "Burger\n",
      "Burger\n"
     ]
    }
   ],
   "source": [
    "x = y = z = 'Burger'\n",
    "\n",
    "print(x)\n",
    "print(y)\n",
    "print(z)"
   ]
  },
  {
   "cell_type": "code",
   "execution_count": 40,
   "id": "d0818d10-dfe9-4bf5-8c42-9cd67f716bb0",
   "metadata": {},
   "outputs": [
    {
     "name": "stdout",
     "output_type": "stream",
     "text": [
      "Chocolate\n",
      "Rocky Road\n",
      "Burger\n"
     ]
    }
   ],
   "source": [
    "ice_cream = ['cookies and cream','Rocky Road','Chocolate']\n",
    "\n",
    "x,y,x = ice_cream\n",
    "\n",
    "print(x)\n",
    "print(y)\n",
    "print(z)"
   ]
  },
  {
   "cell_type": "code",
   "execution_count": null,
   "id": "265dd389-d442-4141-92b9-75200b42c91e",
   "metadata": {},
   "outputs": [],
   "source": [
    "#Camel Case\n",
    "\n",
    "#Test Variable Case\n",
    "\n",
    "testVariableCase = 'Oreo Swirl'"
   ]
  },
  {
   "cell_type": "code",
   "execution_count": null,
   "id": "35a1c2e1-57da-4b8e-be0c-4214c95088f4",
   "metadata": {},
   "outputs": [],
   "source": [
    "#Pascal Case\n",
    "\n",
    "#Test Variable Case\n",
    "\n",
    "TestVariableCase = 'Oreo Swirl'"
   ]
  },
  {
   "cell_type": "code",
   "execution_count": null,
   "id": "bbd0f8cf-9e65-48cd-b8b7-86a7457a5515",
   "metadata": {},
   "outputs": [],
   "source": [
    "#Snake Case\n",
    "\n",
    "#Test Variable Case\n",
    "\n",
    "test_variable_case = 'Oreo Swirl'"
   ]
  },
  {
   "cell_type": "code",
   "execution_count": 78,
   "id": "623d8407-4f01-48d9-809e-272f3c3595d4",
   "metadata": {},
   "outputs": [],
   "source": [
    "# Types of Naming\n",
    "testvar = 'Oreo Swirl'\n",
    "test_var = 'Oreo Swirl'\n",
    "_test_var = 'Oreo Swirl'\n",
    "TestVar = 'Oreo Swirl'\n",
    "TestVar2 = 'Oreo Swirl'"
   ]
  },
  {
   "cell_type": "code",
   "execution_count": 9,
   "id": "3b0c1211-d3a0-415f-ba2c-54ed5d9456bd",
   "metadata": {},
   "outputs": [
    {
     "name": "stdout",
     "output_type": "stream",
     "text": [
      "ice cream masarap.\n"
     ]
    }
   ],
   "source": [
    "x = 'ice cream masarap' + '.'\n",
    "print(x)"
   ]
  },
  {
   "cell_type": "code",
   "execution_count": 11,
   "id": "538afebf-89a8-48dd-baf9-b34fef1421c4",
   "metadata": {},
   "outputs": [
    {
     "name": "stdout",
     "output_type": "stream",
     "text": [
      "5\n"
     ]
    }
   ],
   "source": [
    "y = 3 + 2 \n",
    "print(y)"
   ]
  },
  {
   "cell_type": "code",
   "execution_count": 13,
   "id": "a61d3acf-1405-434e-8dce-88297dfa01a9",
   "metadata": {},
   "outputs": [
    {
     "name": "stdout",
     "output_type": "stream",
     "text": [
      "Ice Cream is My Favourite.\n"
     ]
    }
   ],
   "source": [
    "x = 'Ice Cream'\n",
    "y = ' is'\n",
    "z = ' My Favourite.'\n",
    "\n",
    "print(x+y+z)"
   ]
  },
  {
   "cell_type": "code",
   "execution_count": 15,
   "id": "c9d3ed86-1913-4c4b-b922-43c85cfa6d91",
   "metadata": {},
   "outputs": [
    {
     "name": "stdout",
     "output_type": "stream",
     "text": [
      "6\n"
     ]
    }
   ],
   "source": [
    "x = 1\n",
    "y = 2\n",
    "z = 3\n",
    "\n",
    "print(x+y+z)"
   ]
  },
  {
   "cell_type": "code",
   "execution_count": 17,
   "id": "52c119fa-5beb-48fb-a318-28f74f4aef0b",
   "metadata": {},
   "outputs": [
    {
     "name": "stdout",
     "output_type": "stream",
     "text": [
      "ice cream 2\n"
     ]
    }
   ],
   "source": [
    "x = 'ice cream'\n",
    "y = 2\n",
    "\n",
    "print(x,y)"
   ]
  },
  {
   "cell_type": "code",
   "execution_count": null,
   "id": "211c77c3-e906-405f-aae5-04dc1b711156",
   "metadata": {},
   "outputs": [],
   "source": []
  },
  {
   "cell_type": "code",
   "execution_count": null,
   "id": "9f3fbfc7-f46d-4d57-afb8-b9e9b85d70ed",
   "metadata": {},
   "outputs": [],
   "source": []
  },
  {
   "cell_type": "code",
   "execution_count": null,
   "id": "c7e2e98a-8db6-46d3-a75f-1fe7278a39ef",
   "metadata": {},
   "outputs": [],
   "source": []
  },
  {
   "cell_type": "code",
   "execution_count": null,
   "id": "a21f0db7-6d3b-488a-ae0c-8424fe63a903",
   "metadata": {},
   "outputs": [],
   "source": []
  },
  {
   "cell_type": "code",
   "execution_count": null,
   "id": "530bb8d4-e8ed-4571-befb-c193d984bbd9",
   "metadata": {},
   "outputs": [],
   "source": []
  }
 ],
 "metadata": {
  "kernelspec": {
   "display_name": "Python 3 (ipykernel)",
   "language": "python",
   "name": "python3"
  },
  "language_info": {
   "codemirror_mode": {
    "name": "ipython",
    "version": 3
   },
   "file_extension": ".py",
   "mimetype": "text/x-python",
   "name": "python",
   "nbconvert_exporter": "python",
   "pygments_lexer": "ipython3",
   "version": "3.12.4"
  }
 },
 "nbformat": 4,
 "nbformat_minor": 5
}
