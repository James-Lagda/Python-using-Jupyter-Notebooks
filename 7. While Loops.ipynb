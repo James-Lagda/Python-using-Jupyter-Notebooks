{
 "cells": [
  {
   "cell_type": "markdown",
   "id": "f44e2f75-ec6d-4d11-a85c-dc313fc37cfe",
   "metadata": {},
   "source": [
    "# While Loops"
   ]
  },
  {
   "cell_type": "code",
   "execution_count": 4,
   "id": "5ab0fd86-adb2-4709-b654-952e8f41e645",
   "metadata": {},
   "outputs": [
    {
     "name": "stdout",
     "output_type": "stream",
     "text": [
      "1\n",
      "2\n",
      "3\n",
      "4\n",
      "5\n",
      "6\n",
      "7\n",
      "8\n",
      "9\n"
     ]
    }
   ],
   "source": [
    "num = 1 \n",
    "while num <10:\n",
    "    print(num)\n",
    "    num = num + 1"
   ]
  },
  {
   "cell_type": "code",
   "execution_count": 8,
   "id": "0cdd918a-696a-4ea4-b7cc-c20fd559b3c5",
   "metadata": {},
   "outputs": [
    {
     "name": "stdout",
     "output_type": "stream",
     "text": [
      "1\n",
      "2\n",
      "3\n",
      "4\n",
      "5\n"
     ]
    }
   ],
   "source": [
    "num = 1 \n",
    "while num <10:\n",
    "    print(num)\n",
    "    if num == 5:\n",
    "        break\n",
    "    num = num + 1"
   ]
  },
  {
   "cell_type": "code",
   "execution_count": 23,
   "id": "642c6a4e-c032-42fb-90be-15dddfccfae7",
   "metadata": {},
   "outputs": [
    {
     "name": "stdout",
     "output_type": "stream",
     "text": [
      "1\n",
      "2\n",
      "3\n",
      "4\n",
      "5\n",
      "6\n",
      "7\n",
      "8\n",
      "9\n",
      "no longer < 10\n"
     ]
    }
   ],
   "source": [
    "num = 1 \n",
    "while num <10:\n",
    "    print(num)\n",
    "    if num == 11:\n",
    "        break\n",
    "    num = num + 1\n",
    "else:\n",
    "    print('no longer < 10')"
   ]
  },
  {
   "cell_type": "code",
   "execution_count": null,
   "id": "02e10733-9be1-4764-bf13-2c46073d4f6c",
   "metadata": {},
   "outputs": [],
   "source": [
    "#infinite 5 will come out do nut run\n",
    "\n",
    "num = 1 \n",
    "while num <10:\n",
    "    print(num)\n",
    "    if num == 5:\n",
    "        continue\n",
    "    num = num + 1\n",
    "else:\n",
    "    print('no longer < 10')"
   ]
  },
  {
   "cell_type": "code",
   "execution_count": 29,
   "id": "78bad95c-3e2e-488d-b061-c7338880d103",
   "metadata": {},
   "outputs": [
    {
     "name": "stdout",
     "output_type": "stream",
     "text": [
      "1\n",
      "2\n",
      "3\n",
      "4\n",
      "6\n",
      "7\n",
      "8\n",
      "9\n",
      "10\n",
      "no longer < 10\n"
     ]
    }
   ],
   "source": [
    "num = 0 \n",
    "while num <10:\n",
    "    num = num + 1\n",
    "    if num == 5:\n",
    "        continue\n",
    "    print(num)\n",
    "else:\n",
    "    print('no longer < 10')"
   ]
  },
  {
   "cell_type": "code",
   "execution_count": null,
   "id": "c3311650-456e-42d6-a343-517e42926e97",
   "metadata": {},
   "outputs": [],
   "source": []
  }
 ],
 "metadata": {
  "kernelspec": {
   "display_name": "Python 3 (ipykernel)",
   "language": "python",
   "name": "python3"
  },
  "language_info": {
   "codemirror_mode": {
    "name": "ipython",
    "version": 3
   },
   "file_extension": ".py",
   "mimetype": "text/x-python",
   "name": "python",
   "nbconvert_exporter": "python",
   "pygments_lexer": "ipython3",
   "version": "3.12.4"
  }
 },
 "nbformat": 4,
 "nbformat_minor": 5
}
