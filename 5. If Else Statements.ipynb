{
 "cells": [
  {
   "cell_type": "markdown",
   "id": "f7836c1b-1683-4495-8ec1-713bb95acf59",
   "metadata": {},
   "source": [
    "# If Else Statements"
   ]
  },
  {
   "cell_type": "code",
   "execution_count": 2,
   "id": "7e44eecd-0310-40e8-bbf3-7f0a18ea2963",
   "metadata": {},
   "outputs": [
    {
     "name": "stdout",
     "output_type": "stream",
     "text": [
      "great\n"
     ]
    }
   ],
   "source": [
    "if 50 > 25:\n",
    "    print('great')"
   ]
  },
  {
   "cell_type": "code",
   "execution_count": 6,
   "id": "b76a5a76-529c-4f57-a128-dd9037f1e9af",
   "metadata": {},
   "outputs": [
    {
     "name": "stdout",
     "output_type": "stream",
     "text": [
      "not great\n"
     ]
    }
   ],
   "source": [
    "if 50 < 25:\n",
    "    print('great')\n",
    "else:\n",
    "    print('not great')"
   ]
  },
  {
   "cell_type": "code",
   "execution_count": 8,
   "id": "b17695e4-7b52-49fc-98a3-5b74e6d96823",
   "metadata": {},
   "outputs": [
    {
     "name": "stdout",
     "output_type": "stream",
     "text": [
      "it is great\n"
     ]
    }
   ],
   "source": [
    "if 50 < 25:\n",
    "    print('great')\n",
    "elif 50 < 100:\n",
    "    print('it is great')\n",
    "else:\n",
    "    print('not great')"
   ]
  },
  {
   "cell_type": "code",
   "execution_count": 10,
   "id": "e70d053c-32e8-452b-b01a-422b7e03c455",
   "metadata": {},
   "outputs": [
    {
     "name": "stdout",
     "output_type": "stream",
     "text": [
      "great\n"
     ]
    }
   ],
   "source": [
    "if (50 < 25) or (1 < 3):\n",
    "    print('great')\n",
    "elif 50 < 100:\n",
    "    print('it is great')\n",
    "else:\n",
    "    print('not great')"
   ]
  },
  {
   "cell_type": "code",
   "execution_count": 12,
   "id": "d90b56b5-49b5-4ae7-aa0b-6812610834d6",
   "metadata": {},
   "outputs": [
    {
     "name": "stdout",
     "output_type": "stream",
     "text": [
      "great\n"
     ]
    }
   ],
   "source": [
    "print('great') if 25 > 10 else print('not great')"
   ]
  },
  {
   "cell_type": "code",
   "execution_count": 14,
   "id": "40ffd159-fd73-4331-a048-d24892a1da44",
   "metadata": {},
   "outputs": [
    {
     "name": "stdout",
     "output_type": "stream",
     "text": [
      "great\n",
      "nested work\n"
     ]
    }
   ],
   "source": [
    "#NESTED IF STATEMENT\n",
    "if (50 < 25) or (1 < 3):\n",
    "    print('great')\n",
    "    if 10 > 5:\n",
    "        print('nested work')\n",
    "elif 50 < 100:\n",
    "    print('it is great')\n",
    "else:\n",
    "    print('not great')"
   ]
  },
  {
   "cell_type": "code",
   "execution_count": null,
   "id": "388c00d9-78fa-44be-9d5e-25548ca2e273",
   "metadata": {},
   "outputs": [],
   "source": []
  }
 ],
 "metadata": {
  "kernelspec": {
   "display_name": "Python 3 (ipykernel)",
   "language": "python",
   "name": "python3"
  },
  "language_info": {
   "codemirror_mode": {
    "name": "ipython",
    "version": 3
   },
   "file_extension": ".py",
   "mimetype": "text/x-python",
   "name": "python",
   "nbconvert_exporter": "python",
   "pygments_lexer": "ipython3",
   "version": "3.12.4"
  }
 },
 "nbformat": 4,
 "nbformat_minor": 5
}
