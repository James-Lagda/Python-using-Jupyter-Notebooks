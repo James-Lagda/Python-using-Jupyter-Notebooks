{
 "cells": [
  {
   "cell_type": "markdown",
   "id": "7d739dde-52c3-47fb-b0fb-e30bca9d05a5",
   "metadata": {},
   "source": [
    "# Functions"
   ]
  },
  {
   "cell_type": "code",
   "execution_count": 2,
   "id": "c9736324-d0cc-41e4-9cda-e5892546fe6e",
   "metadata": {},
   "outputs": [],
   "source": [
    "def first_func():\n",
    "    print('lesgooo')"
   ]
  },
  {
   "cell_type": "code",
   "execution_count": 6,
   "id": "9b18311d-4cc8-4210-83e8-7e2aea4c7518",
   "metadata": {},
   "outputs": [
    {
     "name": "stdout",
     "output_type": "stream",
     "text": [
      "lesgooo\n"
     ]
    }
   ],
   "source": [
    "first_func()"
   ]
  },
  {
   "cell_type": "code",
   "execution_count": 8,
   "id": "4d4aaa94-2c8c-4b2f-9327-7d1dd51d10cc",
   "metadata": {},
   "outputs": [],
   "source": [
    "def number_sqaure(number):\n",
    "    print(number**2)"
   ]
  },
  {
   "cell_type": "code",
   "execution_count": 10,
   "id": "a4b4644d-86b1-41a4-bf97-4c2511c95d70",
   "metadata": {},
   "outputs": [
    {
     "name": "stdout",
     "output_type": "stream",
     "text": [
      "9\n"
     ]
    }
   ],
   "source": [
    "number_sqaure(3)"
   ]
  },
  {
   "cell_type": "code",
   "execution_count": 12,
   "id": "ace25103-d96a-40a1-9e32-7bece9541c3c",
   "metadata": {},
   "outputs": [],
   "source": [
    " def number_sqaure(number,power):\n",
    "    print(number**power)"
   ]
  },
  {
   "cell_type": "code",
   "execution_count": 14,
   "id": "26a37edd-ad3f-4aaf-b530-2874ce3d8d18",
   "metadata": {},
   "outputs": [
    {
     "name": "stdout",
     "output_type": "stream",
     "text": [
      "125\n"
     ]
    }
   ],
   "source": [
    "number_sqaure(5,3)"
   ]
  },
  {
   "cell_type": "code",
   "execution_count": 20,
   "id": "0763c50b-3942-4469-8e1b-704ba8d963de",
   "metadata": {},
   "outputs": [],
   "source": [
    "args_tuple = (5,6,1,2,8) \n",
    "\n",
    "def number_args(*number):\n",
    "    print(number[0]*number[1])"
   ]
  },
  {
   "cell_type": "code",
   "execution_count": 30,
   "id": "13f4cb7c-50e5-4d04-bcd1-8347832f8bfa",
   "metadata": {},
   "outputs": [
    {
     "name": "stdout",
     "output_type": "stream",
     "text": [
      "30\n"
     ]
    }
   ],
   "source": [
    "number_args(*args_tuple)"
   ]
  },
  {
   "cell_type": "code",
   "execution_count": 36,
   "id": "0be1af65-b656-4392-adf7-5f2faee335d4",
   "metadata": {},
   "outputs": [],
   "source": [
    " def number_sqaure_cust(number,power):\n",
    "    print(number**power)"
   ]
  },
  {
   "cell_type": "code",
   "execution_count": 38,
   "id": "254bb887-7d35-4c21-ac4d-79eedbd09708",
   "metadata": {},
   "outputs": [
    {
     "name": "stdout",
     "output_type": "stream",
     "text": [
      "243\n"
     ]
    }
   ],
   "source": [
    "number_sqaure_cust(power= 5, number = 3)"
   ]
  },
  {
   "cell_type": "code",
   "execution_count": 46,
   "id": "b8f644a2-5cfb-4d9c-b7ac-d49d0d8da540",
   "metadata": {},
   "outputs": [
    {
     "ename": "SyntaxError",
     "evalue": "invalid syntax. Perhaps you forgot a comma? (1741560610.py, line 2)",
     "output_type": "error",
     "traceback": [
      "\u001b[1;36m  Cell \u001b[1;32mIn[46], line 2\u001b[1;36m\u001b[0m\n\u001b[1;33m    print('Number is:' + number['integer'] + 'my other number:' number['integer2'])\u001b[0m\n\u001b[1;37m          ^\u001b[0m\n\u001b[1;31mSyntaxError\u001b[0m\u001b[1;31m:\u001b[0m invalid syntax. Perhaps you forgot a comma?\n"
     ]
    }
   ],
   "source": [
    "  def number_kwarg(**number):\n",
    "      print('Number is:' + number['integer'] + 'my other number:' number['integer2'])"
   ]
  },
  {
   "cell_type": "code",
   "execution_count": 44,
   "id": "cfc69f43-2eac-48aa-88cd-193edf6590b7",
   "metadata": {},
   "outputs": [
    {
     "name": "stdout",
     "output_type": "stream",
     "text": [
      "Number is:2400\n"
     ]
    }
   ],
   "source": [
    "number_kwarg(integer = '2400')"
   ]
  },
  {
   "cell_type": "code",
   "execution_count": null,
   "id": "dcef9d96-0fd7-4532-bdee-6c1c3bbf78f2",
   "metadata": {},
   "outputs": [],
   "source": []
  },
  {
   "cell_type": "code",
   "execution_count": null,
   "id": "01fdcb16-ae4b-457f-be13-abd9deb3d84c",
   "metadata": {},
   "outputs": [],
   "source": []
  },
  {
   "cell_type": "code",
   "execution_count": null,
   "id": "79710c08-91c0-46a1-b639-cad6998b4ff8",
   "metadata": {},
   "outputs": [],
   "source": []
  },
  {
   "cell_type": "code",
   "execution_count": null,
   "id": "c1855b4e-2f48-4d9f-98a6-138ed6ac8be0",
   "metadata": {},
   "outputs": [],
   "source": []
  }
 ],
 "metadata": {
  "kernelspec": {
   "display_name": "Python 3 (ipykernel)",
   "language": "python",
   "name": "python3"
  },
  "language_info": {
   "codemirror_mode": {
    "name": "ipython",
    "version": 3
   },
   "file_extension": ".py",
   "mimetype": "text/x-python",
   "name": "python",
   "nbconvert_exporter": "python",
   "pygments_lexer": "ipython3",
   "version": "3.12.4"
  }
 },
 "nbformat": 4,
 "nbformat_minor": 5
}
