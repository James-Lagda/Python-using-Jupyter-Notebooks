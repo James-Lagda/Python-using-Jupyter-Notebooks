{
 "cells": [
  {
   "cell_type": "markdown",
   "id": "c4fe9265-ca5d-484c-82df-409351e92638",
   "metadata": {},
   "source": [
    "# For Loops"
   ]
  },
  {
   "cell_type": "code",
   "execution_count": 2,
   "id": "fd096574-f3e7-452c-b494-a54851957fcd",
   "metadata": {},
   "outputs": [],
   "source": [
    "integers = [1,2,3,4,5]"
   ]
  },
  {
   "cell_type": "code",
   "execution_count": 7,
   "id": "94d47e84-5302-48e9-8fb4-a1d941a149f4",
   "metadata": {},
   "outputs": [
    {
     "name": "stdout",
     "output_type": "stream",
     "text": [
      "1\n",
      "2\n",
      "3\n",
      "4\n",
      "5\n"
     ]
    }
   ],
   "source": [
    "for num in integers: \n",
    "    print(num)"
   ]
  },
  {
   "cell_type": "code",
   "execution_count": 9,
   "id": "c2cbef64-8586-45c2-8312-08bb44da6a48",
   "metadata": {},
   "outputs": [
    {
     "name": "stdout",
     "output_type": "stream",
     "text": [
      "okay\n",
      "okay\n",
      "okay\n",
      "okay\n",
      "okay\n"
     ]
    }
   ],
   "source": [
    "for num in integers: \n",
    "    print('okay')"
   ]
  },
  {
   "cell_type": "code",
   "execution_count": 11,
   "id": "c3f85e22-f1e6-4186-886c-ce5bcdd0f9a4",
   "metadata": {},
   "outputs": [],
   "source": [
    "integers = [1,2,3,4,5]"
   ]
  },
  {
   "cell_type": "code",
   "execution_count": 13,
   "id": "36bc2f58-5283-4b92-bbc3-ec0bc0c89cef",
   "metadata": {},
   "outputs": [
    {
     "name": "stdout",
     "output_type": "stream",
     "text": [
      "2\n",
      "4\n",
      "6\n",
      "8\n",
      "10\n"
     ]
    }
   ],
   "source": [
    "for num in integers: \n",
    "    print(num + num)"
   ]
  },
  {
   "cell_type": "code",
   "execution_count": 15,
   "id": "2acf9825-c91e-4427-9005-2d17f247d9c6",
   "metadata": {},
   "outputs": [],
   "source": [
    "ice_cream_dict = {'name': 'james irvin', 'age': 22, 'games':['lol','valo','tft']}"
   ]
  },
  {
   "cell_type": "code",
   "execution_count": 19,
   "id": "f3b47b45-e078-455a-b62a-7e232cf8d674",
   "metadata": {},
   "outputs": [
    {
     "name": "stdout",
     "output_type": "stream",
     "text": [
      "james irvin\n",
      "22\n",
      "['lol', 'valo', 'tft']\n"
     ]
    }
   ],
   "source": [
    "for cream in ice_cream_dict.values():\n",
    "    print(cream)"
   ]
  },
  {
   "cell_type": "code",
   "execution_count": 21,
   "id": "f3651712-046f-44fa-97bd-73d3b6f30e40",
   "metadata": {},
   "outputs": [
    {
     "name": "stdout",
     "output_type": "stream",
     "text": [
      "name -> james irvin\n",
      "age -> 22\n",
      "games -> ['lol', 'valo', 'tft']\n"
     ]
    }
   ],
   "source": [
    "for key, value in ice_cream_dict.items():\n",
    "    print(key,'->',value)"
   ]
  },
  {
   "cell_type": "code",
   "execution_count": 23,
   "id": "b9bff5d7-4ac8-45d2-bb67-ce630a6264e8",
   "metadata": {},
   "outputs": [],
   "source": [
    "#NESTED FOR LOOP"
   ]
  },
  {
   "cell_type": "code",
   "execution_count": 25,
   "id": "8752131b-53cd-4487-ad46-cfffe0bcc19c",
   "metadata": {},
   "outputs": [],
   "source": [
    "games = ['lol','tft','valo']\n",
    "music = ['post','alltime low', 'mcr']"
   ]
  },
  {
   "cell_type": "code",
   "execution_count": 27,
   "id": "080c5b54-1fa0-48e8-b090-5fd910fbadf2",
   "metadata": {},
   "outputs": [
    {
     "name": "stdout",
     "output_type": "stream",
     "text": [
      "lol tandem post\n",
      "lol tandem alltime low\n",
      "lol tandem mcr\n",
      "tft tandem post\n",
      "tft tandem alltime low\n",
      "tft tandem mcr\n",
      "valo tandem post\n",
      "valo tandem alltime low\n",
      "valo tandem mcr\n"
     ]
    }
   ],
   "source": [
    "for one in games: \n",
    "    for two in music:\n",
    "        print(one, 'tandem', two)"
   ]
  },
  {
   "cell_type": "code",
   "execution_count": null,
   "id": "18768eba-ecb4-4730-ac16-9d4f43c04cc3",
   "metadata": {},
   "outputs": [],
   "source": [
    " "
   ]
  }
 ],
 "metadata": {
  "kernelspec": {
   "display_name": "Python 3 (ipykernel)",
   "language": "python",
   "name": "python3"
  },
  "language_info": {
   "codemirror_mode": {
    "name": "ipython",
    "version": 3
   },
   "file_extension": ".py",
   "mimetype": "text/x-python",
   "name": "python",
   "nbconvert_exporter": "python",
   "pygments_lexer": "ipython3",
   "version": "3.12.4"
  }
 },
 "nbformat": 4,
 "nbformat_minor": 5
}
